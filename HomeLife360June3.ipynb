{
 "cells": [
  {
   "cell_type": "code",
   "execution_count": 7,
   "metadata": {
    "extensions": {
     "jupyter_dashboards": {
      "version": 1,
      "views": {
       "grid_default": {},
       "report_default": {}
      }
     }
    }
   },
   "outputs": [
    {
     "name": "stdout",
     "output_type": "stream",
     "text": [
      "(1136680, 4)\n"
     ]
    },
    {
     "data": {
      "text/html": [
       "<div>\n",
       "<style scoped>\n",
       "    .dataframe tbody tr th:only-of-type {\n",
       "        vertical-align: middle;\n",
       "    }\n",
       "\n",
       "    .dataframe tbody tr th {\n",
       "        vertical-align: top;\n",
       "    }\n",
       "\n",
       "    .dataframe thead th {\n",
       "        text-align: right;\n",
       "    }\n",
       "</style>\n",
       "<table border=\"1\" class=\"dataframe\">\n",
       "  <thead>\n",
       "    <tr style=\"text-align: right;\">\n",
       "      <th></th>\n",
       "      <th>Date</th>\n",
       "      <th>Time</th>\n",
       "      <th>Room</th>\n",
       "      <th>Signal</th>\n",
       "    </tr>\n",
       "  </thead>\n",
       "  <tbody>\n",
       "    <tr>\n",
       "      <th>0</th>\n",
       "      <td>2014-08-10</td>\n",
       "      <td>07:51:35.663213</td>\n",
       "      <td>Office</td>\n",
       "      <td>ON</td>\n",
       "    </tr>\n",
       "    <tr>\n",
       "      <th>1</th>\n",
       "      <td>2014-08-10</td>\n",
       "      <td>07:51:36.789485</td>\n",
       "      <td>Office</td>\n",
       "      <td>OFF</td>\n",
       "    </tr>\n",
       "    <tr>\n",
       "      <th>2</th>\n",
       "      <td>2014-08-10</td>\n",
       "      <td>07:51:44.856168</td>\n",
       "      <td>Office</td>\n",
       "      <td>ON</td>\n",
       "    </tr>\n",
       "    <tr>\n",
       "      <th>3</th>\n",
       "      <td>2014-08-10</td>\n",
       "      <td>07:51:44.956600</td>\n",
       "      <td>Office</td>\n",
       "      <td>OFF</td>\n",
       "    </tr>\n",
       "    <tr>\n",
       "      <th>4</th>\n",
       "      <td>2014-08-10</td>\n",
       "      <td>07:51:46.910921</td>\n",
       "      <td>Office</td>\n",
       "      <td>ON</td>\n",
       "    </tr>\n",
       "  </tbody>\n",
       "</table>\n",
       "</div>"
      ],
      "text/plain": [
       "         Date             Time    Room Signal\n",
       "0  2014-08-10  07:51:35.663213  Office     ON\n",
       "1  2014-08-10  07:51:36.789485  Office    OFF\n",
       "2  2014-08-10  07:51:44.856168  Office     ON\n",
       "3  2014-08-10  07:51:44.956600  Office    OFF\n",
       "4  2014-08-10  07:51:46.910921  Office     ON"
      ]
     },
     "execution_count": 7,
     "metadata": {},
     "output_type": "execute_result"
    }
   ],
   "source": [
    "import numpy as np\n",
    "import pandas as pd\n",
    "import matplotlib.pyplot as plt\n",
    "from sklearn import preprocessing\n",
    "from sklearn.metrics import confusion_matrix, recall_score, precision_score\n",
    "from sklearn.svm import OneClassSVM\n",
    "from sklearn.preprocessing import StandardScaler\n",
    "from sklearn.ensemble import IsolationForest\n",
    "\n",
    "df = pd.read_csv('C:\\\\Users\\\\Samir Prasun\\\\Desktop\\\\Insight data science\\\\Samir\\\\data.txt', sep=\" \", header=None)\n",
    "\n",
    "df.columns = ['Date', 'Time', 'Room', 'Signal']\n",
    "print (df.shape)\n",
    "df.head()\n"
   ]
  },
  {
   "cell_type": "code",
   "execution_count": 9,
   "metadata": {},
   "outputs": [
    {
     "name": "stdout",
     "output_type": "stream",
     "text": [
      "0    2014-08-10T07:51:35.663213\n",
      "1    2014-08-10T07:51:36.789485\n",
      "2    2014-08-10T07:51:44.856168\n",
      "3    2014-08-10T07:51:44.956600\n",
      "4    2014-08-10T07:51:46.910921\n",
      "dtype: object\n"
     ]
    }
   ],
   "source": [
    "scaler = StandardScaler()\n",
    "\n",
    "\n",
    "T=[]\n",
    "df['time'] =df['Date']+' '+df['Time']\n",
    "for i in range(len(df)):\n",
    "    df.time[i]=np.datetime64(df.time[i])\n",
    "\n",
    "\n",
    "t=np.datetime64('2014-08-10 07:50:00.000')\n",
    "while (t<df.time[len(df)-1]):\n",
    "    T.append(t)\n",
    "    t=t+np.timedelta64(1,'D')\n",
    "    \n",
    "print(df.time[:5])"
   ]
  },
  {
   "cell_type": "code",
   "execution_count": 10,
   "metadata": {
    "extensions": {
     "jupyter_dashboards": {
      "version": 1,
      "views": {
       "grid_default": {},
       "report_default": {}
      }
     }
    }
   },
   "outputs": [
    {
     "data": {
      "text/html": [
       "<div>\n",
       "<style scoped>\n",
       "    .dataframe tbody tr th:only-of-type {\n",
       "        vertical-align: middle;\n",
       "    }\n",
       "\n",
       "    .dataframe tbody tr th {\n",
       "        vertical-align: top;\n",
       "    }\n",
       "\n",
       "    .dataframe thead th {\n",
       "        text-align: right;\n",
       "    }\n",
       "</style>\n",
       "<table border=\"1\" class=\"dataframe\">\n",
       "  <thead>\n",
       "    <tr style=\"text-align: right;\">\n",
       "      <th></th>\n",
       "      <th>Date</th>\n",
       "      <th>Office</th>\n",
       "      <th>cooking</th>\n",
       "      <th>bathroom</th>\n",
       "      <th>bedroom</th>\n",
       "      <th>Livingroom</th>\n",
       "    </tr>\n",
       "  </thead>\n",
       "  <tbody>\n",
       "    <tr>\n",
       "      <th>0</th>\n",
       "      <td>2014-08-10 07:50:00</td>\n",
       "      <td>0</td>\n",
       "      <td>0</td>\n",
       "      <td>0</td>\n",
       "      <td>0</td>\n",
       "      <td>0</td>\n",
       "    </tr>\n",
       "    <tr>\n",
       "      <th>1</th>\n",
       "      <td>2014-08-11 07:50:00</td>\n",
       "      <td>766</td>\n",
       "      <td>966</td>\n",
       "      <td>1011</td>\n",
       "      <td>194</td>\n",
       "      <td>174</td>\n",
       "    </tr>\n",
       "    <tr>\n",
       "      <th>2</th>\n",
       "      <td>2014-08-12 07:50:00</td>\n",
       "      <td>76</td>\n",
       "      <td>697</td>\n",
       "      <td>569</td>\n",
       "      <td>339</td>\n",
       "      <td>583</td>\n",
       "    </tr>\n",
       "    <tr>\n",
       "      <th>3</th>\n",
       "      <td>2014-08-13 07:50:00</td>\n",
       "      <td>423</td>\n",
       "      <td>727</td>\n",
       "      <td>1063</td>\n",
       "      <td>252</td>\n",
       "      <td>115</td>\n",
       "    </tr>\n",
       "    <tr>\n",
       "      <th>4</th>\n",
       "      <td>2014-08-14 07:50:00</td>\n",
       "      <td>345</td>\n",
       "      <td>870</td>\n",
       "      <td>812</td>\n",
       "      <td>234</td>\n",
       "      <td>121</td>\n",
       "    </tr>\n",
       "  </tbody>\n",
       "</table>\n",
       "</div>"
      ],
      "text/plain": [
       "                 Date  Office  cooking  bathroom  bedroom  Livingroom\n",
       "0 2014-08-10 07:50:00       0        0         0        0           0\n",
       "1 2014-08-11 07:50:00     766      966      1011      194         174\n",
       "2 2014-08-12 07:50:00      76      697       569      339         583\n",
       "3 2014-08-13 07:50:00     423      727      1063      252         115\n",
       "4 2014-08-14 07:50:00     345      870       812      234         121"
      ]
     },
     "execution_count": 10,
     "metadata": {},
     "output_type": "execute_result"
    }
   ],
   "source": [
    "j=0\n",
    "O, L, K, B, Be = [], [], [], [], []\n",
    "for i in range(len(T)):\n",
    "    a=0\n",
    "    b=0\n",
    "    be=0\n",
    "    k=0\n",
    "    l=0\n",
    "    \n",
    "    while df.time[j]<=T[i]:\n",
    "        j=j+1\n",
    "        \n",
    "        if (df.Room.values[j-1]=='Office'):\n",
    "            if (df.Signal.values[j-1]=='ON'):\n",
    "                a=a+1\n",
    "            else: n=1\n",
    "                        \n",
    "        elif (df.Room.values[j-1]=='Bathroom'):\n",
    "            if (df.Signal.values[j-1]=='ON'):\n",
    "                            b=b+1  \n",
    "            else: n=1\n",
    "                       \n",
    "        elif df.Room.values[j-1]=='Kitchen':\n",
    "            if df.Signal.values[j-1]=='ON':\n",
    "                            k=k+1    \n",
    "            else: n=1\n",
    "        elif df.Room.values[j-1]=='LivingRoom':\n",
    "            if df.Signal.values[j-1]=='ON':\n",
    "                            l=l+1\n",
    "            else: n=1\n",
    "        elif df.Room.values[j-1]=='Bedroom':\n",
    "            if df.Signal.values[j-1]=='ON':\n",
    "                            be=be+1\n",
    "            else: n=1\n",
    "                        \n",
    "        \n",
    "    O.append(a)\n",
    "    L.append(l)\n",
    "    K.append(k)\n",
    "    B.append(b) \n",
    "    Be.append(be)\n",
    "                  \n",
    "df_day=pd.DataFrame()\n",
    "df_day['Date']=T\n",
    "df_day['Office'] =O\n",
    "df_day['cooking']=K\n",
    "df_day['bathroom']=B\n",
    "df_day['bedroom']=Be\n",
    "df_day['Livingroom']=L\n",
    "           \n",
    "df_day.head()           \n",
    "    \n",
    "    \n"
   ]
  },
  {
   "cell_type": "code",
   "execution_count": 11,
   "metadata": {},
   "outputs": [
    {
     "data": {
      "application/vnd.jupyter.widget-view+json": {
       "model_id": "1d6cf9fdc7774ab78e09a49fa2d9ff4d",
       "version_major": 2,
       "version_minor": 0
      },
      "text/plain": [
       "interactive(children=(FloatSlider(value=0.0505, description='outliers_fraction', max=0.1, min=0.001), Dropdown…"
      ]
     },
     "metadata": {},
     "output_type": "display_data"
    }
   ],
   "source": [
    "df1=pd.DataFrame()\n",
    "\n",
    "outliers_fraction = 0.1\n",
    "# train oneclassSVM \n",
    "def SVM (outliers_fraction, room):\n",
    "    data=df_day[[room]]\n",
    "    np_scaled = scaler.fit_transform(data)\n",
    "    data = pd.DataFrame(np_scaled)\n",
    "    model = OneClassSVM(nu=outliers_fraction, kernel=\"rbf\", gamma=0.01)\n",
    "    model.fit(data)\n",
    "\n",
    "    Anomaly = pd.Series(model.predict(data))\n",
    "\n",
    "    fig, ax = plt.subplots(figsize=(10,6))\n",
    "\n",
    "    a = df_day.loc[Anomaly == -1, ['Date',room]] #anomaly\n",
    "\n",
    "    ax.plot(df_day['Date'], df_day[room], color='blue')\n",
    "    ax.scatter(a['Date'],a[room], color='red')\n",
    "    plt.title(room)\n",
    "    #plt.close(ax)\n",
    "    plt.show()\n",
    "    \n",
    "\n",
    "from ipywidgets import interactive\n",
    "df1=pd.DataFrame()\n",
    "df1=df_day.drop(['Date'],axis=1)\n",
    "kw=dict(outliers_fraction=(0.001,0.1),room=sorted(list(df1.columns)))\n",
    "interactive_plot = interactive(SVM, **kw)\n",
    "interactive_plot"
   ]
  },
  {
   "cell_type": "code",
   "execution_count": null,
   "metadata": {},
   "outputs": [],
   "source": []
  }
 ],
 "metadata": {
  "extensions": {
   "jupyter_dashboards": {
    "activeView": "grid_default",
    "version": 1,
    "views": {
     "grid_default": {
      "cellMargin": 10,
      "defaultCellHeight": 20,
      "maxColumns": 12,
      "name": "grid",
      "type": "grid"
     },
     "report_default": {
      "name": "report",
      "type": "report"
     }
    }
   }
  },
  "kernelspec": {
   "display_name": "Python 3",
   "language": "python",
   "name": "python3"
  },
  "language_info": {
   "codemirror_mode": {
    "name": "ipython",
    "version": 3
   },
   "file_extension": ".py",
   "mimetype": "text/x-python",
   "name": "python",
   "nbconvert_exporter": "python",
   "pygments_lexer": "ipython3",
   "version": "3.7.6"
  }
 },
 "nbformat": 4,
 "nbformat_minor": 4
}
